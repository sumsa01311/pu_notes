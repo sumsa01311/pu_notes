{
 "cells": [
  {
   "cell_type": "markdown",
   "metadata": {},
   "source": [
    "# **Numpy**\n",
    "-----\n",
    "Numpy is the core library for scientific computing in Python. It provides a high-performance multidimensional array object, and tools for working with these arrays.\n",
    "## Arrays\n",
    "-----\n",
    "1. A numpy array is a grid of values, all of the same type, and is indexed by a tuple of nonnegative integers. \n",
    "2. The number of dimensions is the rank of the array; \n",
    "3. the shape of an array is a tuple of integers giving the size of the array along each dimension.\n",
    "\n",
    "4. We can initialize numpy arrays from nested Python lists, and access elements using square brackets:"
   ]
  },
  {
   "cell_type": "markdown",
   "metadata": {},
   "source": [
    "# NumPy Basics\n",
    "\n",
    "| Operator\t| Description |\n",
    "|:-----------|:-------------|\n",
    "| np.array([1,2,3])\t| 1d array|\n",
    "| np.array([(1,2,3),(4,5,6)])\t| 2d array|\n",
    "| np.arange(start,stop,step)\t| range array|\n",
    "\n",
    "\n",
    "![alt text](https://www.w3resource.com/w3r_images/python-numpy-arrays-image.png)\n",
    "\n",
    "# Placeholders\n",
    "\n",
    "Operator\t| Description\n",
    ":-----------|:-------------\n",
    "np.linspace(0,2,9)\t| Add evenly spaced values btw interval to array of length\n",
    "np.zeros((1,2))\t| Create and array filled with zeros\n",
    "np.ones((1,2))\t| Creates an array filled with ones\n",
    "np.random.random((5,5))\t| Creates random array\n",
    "np.empty((2,2))\t| Creates an empty array\n",
    "\n",
    "\n",
    "# Array\n",
    "\n",
    "Syntax\t| Description\n",
    ":-----------|:-------------\n",
    "array.shape\t| Dimensions (Rows,Columns)\n",
    "len(array)\t| Length of Array\n",
    "array.ndim\t| Number of Array Dimensions\n",
    "array.dtype\t| Data Type\n",
    "array.astype(type)\t| Converts to Data Type\n",
    "type(array)\t| Type of Array\n",
    "\n",
    "\n",
    "# Copying/Sorting\n",
    "\n",
    "Operators\t| Description\n",
    ":-----------|:-------------\n",
    "np.copy(array)\t| Creates copy of array\n",
    "other = array.copy()\t| Creates deep copy of array\n",
    "array.sort()\t| Sorts an array\n",
    "array.sort(axis=0)\t| Sorts axis of array\n",
    "\n",
    "\n",
    "# Array Manipulation\n",
    "\n",
    "# Adding or Removing Elements\n",
    "\n",
    "Operator\t| Description\n",
    ":-----------|:-------------\n",
    "np.append(a,b)\t| Append items to array\n",
    "np.insert(array, 1, 2, axis)\t| Insert items into array at axis 0 or 1\n",
    "np.resize((2,4))\t| Resize array to shape(2,4)\n",
    "np.delete(array,1,axis)\t| Deletes items from array\n",
    "\n",
    "\n",
    "# Combining Arrays\n",
    "\n",
    "Operator\t| Description\n",
    ":-----------|:-------------\n",
    "np.concatenate((a,b),axis=0)\t| Concatenates 2 arrays, adds to end\n",
    "np.vstack((a,b))\t| Stack array row-wise\n",
    "np.hstack((a,b))\t| Stack array column wise\n",
    "\n",
    "# Splitting Arrays\n",
    "\n",
    "Operator\t| Description\n",
    ":-----------|:-------------\n",
    "numpy.split()\t| Split an array into multiple sub-arrays.\n",
    "np.array_split(array, 3)\t| Split an array in sub-arrays of (nearly) identical size\n",
    "numpy.hsplit(array, 3)\t| Split the array horizontally at 3rd index\n",
    "\n",
    "# More\n",
    "\n",
    "Operator\t| Description\n",
    ":-----------|:-------------\n",
    "other = ndarray.flatten()\t| Flattens a 2d array to 1d\n",
    "array = np.transpose(other)\n",
    "array.T\tTranspose array\n",
    "inverse = np.linalg.inv(matrix)\t| Inverse of a given matrix\n",
    "Mathematics\n",
    "\n",
    "# Operations\n",
    "\n",
    "Operator\t| Description\n",
    ":-----------|:-------------\n",
    "np.add(x,y)\n",
    "x + y\t| Addition\n",
    "np.substract(x,y)\n",
    "x - y\t| Subtraction\n",
    "np.divide(x,y)\n",
    "x / y\t| Division\n",
    "np.multiply(x,y)\n",
    "x @ y\t| Multiplication\n",
    "np.sqrt(x)\t| Square Root\n",
    "np.sin(x)\t| Element-wise sine\n",
    "np.cos(x)\t| Element-wise cosine\n",
    "np.log(x)\t| Element-wise natural log\n",
    "np.dot(x,y)\t| Dot product\n",
    "np.roots([1,0,-4])\t| Roots of a given polynomial coefficients\n",
    "\n",
    "# Comparison\n",
    "\n",
    "Operator\t| Description\n",
    ":-----------|:-------------\n",
    "==\t| Equal\n",
    "!=\t| Not equal\n",
    "<\t| Smaller than\n",
    ">\t| Greater than\n",
    "<=\t| Smaller than or equal\n",
    ">=\t| Greater than or equal\n",
    "np.array_equal(x,y)\t| Array-wise comparison\n",
    "\n",
    "# Basic Statistics\n",
    "\n",
    "Operator\t| Description\n",
    ":-----------|:-------------\n",
    "np.mean(array)\t| Mean\n",
    "np.median(array)\t| Median\n",
    "array.corrcoef()\t| Correlation Coefficient\n",
    "np.std(array)\t| Standard Deviation\n",
    "\n",
    "# More\n",
    "\n",
    "Operator\t| Description\n",
    ":-----------|:-------------\n",
    "array.sum()\t| Array-wise sum\n",
    "array.min()\t| Array-wise minimum value\n",
    "array.max(axis=0)\t| Maximum value of specified axis\n",
    "array.cumsum(axis=0)\t| Cumulative sum of specified axis\n",
    "\n",
    "# Slicing and Subsetting\n",
    "\n",
    "Operator\t| Description\n",
    ":-----------|:-------------\n",
    "array[i]\t| 1d array at index i\n",
    "array[i,j]\t| 2d array at index[i][j]\n",
    "array[i<4]\t| Boolean Indexing, see Tricks\n",
    "array[0:3]\t| Select items of index 0, 1 and 2\n",
    "array[0:2,1]\t| Select items of rows 0 and 1 at column 1\n",
    "array[:1]\t| Select items of row 0 (equals array[0:1, :])\n",
    "array[1:2, :]\t| Select items of row 1\n",
    "[comment]: <> | (\tarray[1,...]\n",
    "array[ : :-1]\t| Reverses array\n"
   ]
  },
  {
   "cell_type": "markdown",
   "metadata": {},
   "source": [
    "## 1. Installation"
   ]
  },
  {
   "cell_type": "markdown",
   "metadata": {},
   "source": [
    "pip install numpy"
   ]
  },
  {
   "cell_type": "markdown",
   "metadata": {},
   "source": [
    "## 2. Motivation"
   ]
  },
  {
   "cell_type": "markdown",
   "metadata": {},
   "source": [
    "Numpy provides extension package to python for multi dimensional arrays.<br>\n",
    "Also known as array oriented computing."
   ]
  },
  {
   "cell_type": "markdown",
   "metadata": {},
   "source": [
    "### creating array in numpy"
   ]
  },
  {
   "cell_type": "code",
   "execution_count": null,
   "metadata": {},
   "outputs": [],
   "source": [
    "import numpy as np\n",
    "\n",
    "a = np.arange(10) #using arange function\n",
    "print(a)\n",
    "\n",
    "b = np.array([1,2,3,4,5]) #creating array from list\n",
    "print(b)"
   ]
  },
  {
   "cell_type": "markdown",
   "metadata": {},
   "source": [
    "### why to use numpy ?"
   ]
  },
  {
   "cell_type": "code",
   "execution_count": null,
   "metadata": {},
   "outputs": [],
   "source": [
    "L = range(1000)\n",
    "%timeit [i**2 for i in L]"
   ]
  },
  {
   "cell_type": "code",
   "execution_count": null,
   "metadata": {},
   "outputs": [],
   "source": [
    "A = np.arange(1000)\n",
    "%timeit A**2"
   ]
  },
  {
   "cell_type": "code",
   "execution_count": null,
   "metadata": {},
   "outputs": [],
   "source": [
    "print(\"Numpy implementation is {0} times faster than lists implementation\".format(272/1.25))"
   ]
  },
  {
   "cell_type": "markdown",
   "metadata": {},
   "source": [
    "## 3. Creating arrays"
   ]
  },
  {
   "cell_type": "markdown",
   "metadata": {},
   "source": [
    "### 3.1. Manual construction of the arrays"
   ]
  },
  {
   "cell_type": "code",
   "execution_count": null,
   "metadata": {},
   "outputs": [],
   "source": [
    "#create 1 - D array #vector\n",
    "a = np.array([1,2,3,4,5])\n",
    "\n",
    "a"
   ]
  },
  {
   "cell_type": "code",
   "execution_count": null,
   "metadata": {},
   "outputs": [],
   "source": [
    "#print dimensions\n",
    "a.ndim"
   ]
  },
  {
   "cell_type": "code",
   "execution_count": null,
   "metadata": {},
   "outputs": [],
   "source": [
    "#print shape\n",
    "a.shape"
   ]
  },
  {
   "cell_type": "code",
   "execution_count": null,
   "metadata": {},
   "outputs": [],
   "source": [
    "len(a)"
   ]
  },
  {
   "cell_type": "code",
   "execution_count": null,
   "metadata": {},
   "outputs": [],
   "source": [
    "#create 2-D array #matrix\n",
    "\n",
    "b = np.array([[1,2,3],[4,5,6]]) #list of lists\n",
    "\n",
    "b"
   ]
  },
  {
   "cell_type": "code",
   "execution_count": null,
   "metadata": {},
   "outputs": [],
   "source": [
    "b.ndim"
   ]
  },
  {
   "cell_type": "code",
   "execution_count": null,
   "metadata": {},
   "outputs": [],
   "source": [
    "b.shape"
   ]
  },
  {
   "cell_type": "code",
   "execution_count": null,
   "metadata": {},
   "outputs": [],
   "source": [
    "len(b) #size of first dimension or number of rows"
   ]
  },
  {
   "cell_type": "code",
   "execution_count": null,
   "metadata": {},
   "outputs": [],
   "source": [
    "#create 3 - D array #tensors\n",
    "\n",
    "c = np.array([[[0,1],[2,3]],[[4,5],[6,7]]])\n",
    "\n",
    "c"
   ]
  },
  {
   "cell_type": "code",
   "execution_count": null,
   "metadata": {},
   "outputs": [],
   "source": [
    "c.ndim"
   ]
  },
  {
   "cell_type": "code",
   "execution_count": null,
   "metadata": {},
   "outputs": [],
   "source": [
    "c.shape"
   ]
  },
  {
   "cell_type": "code",
   "execution_count": null,
   "metadata": {},
   "outputs": [],
   "source": [
    "len(c)"
   ]
  },
  {
   "cell_type": "markdown",
   "metadata": {},
   "source": [
    "### 3.2. Functions for creating arrays"
   ]
  },
  {
   "cell_type": "code",
   "execution_count": null,
   "metadata": {},
   "outputs": [],
   "source": [
    "#using arange function\n",
    "\n",
    "a = np.arange(10)\n",
    "\n",
    "a"
   ]
  },
  {
   "cell_type": "code",
   "execution_count": null,
   "metadata": {},
   "outputs": [],
   "source": [
    "b = np.arange(1,10,2) #start, end, step\n",
    "\n",
    "b"
   ]
  },
  {
   "cell_type": "code",
   "execution_count": null,
   "metadata": {},
   "outputs": [],
   "source": [
    "#using linspace #linearspace\n",
    "\n",
    "c = np.linspace(5, 10, 5) #start, end, number of points\n",
    "\n",
    "c"
   ]
  },
  {
   "cell_type": "code",
   "execution_count": null,
   "metadata": {},
   "outputs": [],
   "source": [
    "#common arrays\n",
    "\n",
    "d = np.ones((3,3))\n",
    "\n",
    "d"
   ]
  },
  {
   "cell_type": "code",
   "execution_count": null,
   "metadata": {},
   "outputs": [],
   "source": [
    "x = np.zeros((3,3))\n",
    "\n",
    "x"
   ]
  },
  {
   "cell_type": "code",
   "execution_count": null,
   "metadata": {},
   "outputs": [],
   "source": [
    "y = np.eye(3) #creates a matrix with 1 as the diagonals and 0 as non-diagonal elements\n",
    "\n",
    "y"
   ]
  },
  {
   "cell_type": "code",
   "execution_count": null,
   "metadata": {},
   "outputs": [],
   "source": [
    "z = np.eye(3,2)\n",
    "\n",
    "z"
   ]
  },
  {
   "cell_type": "code",
   "execution_count": null,
   "metadata": {},
   "outputs": [],
   "source": [
    "a = np.diag([1,2,3,4]) #construct a diagonal array\n",
    "\n",
    "print(a)"
   ]
  },
  {
   "cell_type": "code",
   "execution_count": null,
   "metadata": {},
   "outputs": [],
   "source": [
    "np.diag(a) #extracts the diagonal elements of matrix a"
   ]
  },
  {
   "cell_type": "code",
   "execution_count": null,
   "metadata": {},
   "outputs": [],
   "source": [
    "#creates a array using random\n",
    "a = np.random.rand(4)\n",
    "\n",
    "print(a)"
   ]
  },
  {
   "cell_type": "markdown",
   "metadata": {},
   "source": [
    "## 4. Datatypes"
   ]
  },
  {
   "cell_type": "code",
   "execution_count": null,
   "metadata": {},
   "outputs": [],
   "source": [
    "#we can explicitly specify the required data type\n",
    "a = np.arange(10, dtype='float')\n",
    "\n",
    "print(a)"
   ]
  },
  {
   "cell_type": "code",
   "execution_count": null,
   "metadata": {},
   "outputs": [],
   "source": [
    "b = np.array([1+2j, 5+1j])\n",
    "\n",
    "print(b.dtype)"
   ]
  },
  {
   "cell_type": "code",
   "execution_count": null,
   "metadata": {},
   "outputs": [],
   "source": [
    "c = np.array([True, False, True])\n",
    "\n",
    "print(c.dtype)"
   ]
  },
  {
   "cell_type": "markdown",
   "metadata": {},
   "source": [
    "## 5. Indexing and slicing"
   ]
  },
  {
   "cell_type": "markdown",
   "metadata": {},
   "source": [
    "### 5.1. Indexing"
   ]
  },
  {
   "cell_type": "code",
   "execution_count": null,
   "metadata": {},
   "outputs": [],
   "source": [
    "a = np.arange(10)\n",
    "\n",
    "#print(a)\n",
    "print(a[5])\n",
    "print(a[-1])"
   ]
  },
  {
   "cell_type": "code",
   "execution_count": null,
   "metadata": {},
   "outputs": [],
   "source": [
    "b = np.diag([1,2,3])\n",
    "\n",
    "#print(b)\n",
    "print(b[2,2])"
   ]
  },
  {
   "cell_type": "code",
   "execution_count": null,
   "metadata": {},
   "outputs": [],
   "source": [
    "b[2,1] = 10 #asigning value to a index\n",
    "\n",
    "print(b)"
   ]
  },
  {
   "cell_type": "markdown",
   "metadata": {},
   "source": [
    "### 5.2. Slicing"
   ]
  },
  {
   "cell_type": "code",
   "execution_count": null,
   "metadata": {},
   "outputs": [],
   "source": [
    "a = np.arange(10)\n",
    "\n",
    "print(a[1:10:2]) #[start_value: end_value(exclusive): step]"
   ]
  },
  {
   "cell_type": "code",
   "execution_count": null,
   "metadata": {},
   "outputs": [],
   "source": [
    "b = np.arange(10)\n",
    "\n",
    "b[5:] = 10 #assign 10 from index 5 to end\n",
    "\n",
    "print(b)"
   ]
  },
  {
   "cell_type": "code",
   "execution_count": null,
   "metadata": {},
   "outputs": [],
   "source": [
    "c = np.arange(5)\n",
    "\n",
    "b[5:] = c[::-1] #assign in reverse order\n",
    "\n",
    "print(b)"
   ]
  },
  {
   "cell_type": "markdown",
   "metadata": {},
   "source": [
    "## 6. Copies and views "
   ]
  },
  {
   "cell_type": "markdown",
   "metadata": {},
   "source": [
    "Slicing operation creates a view on the original array which is just a way of accessing the data. Thus, the original array is not copied in the memory. You can use <strong>np.may_share_memory()</strong> to check whether two arrays share the same memory block."
   ]
  },
  {
   "cell_type": "code",
   "execution_count": null,
   "metadata": {},
   "outputs": [],
   "source": [
    "a = np.arange(10)\n",
    "\n",
    "b = a[::2]\n",
    "\n",
    "np.shares_memory(a,b)"
   ]
  },
  {
   "cell_type": "code",
   "execution_count": null,
   "metadata": {},
   "outputs": [],
   "source": [
    "b[0] = 10\n",
    "\n",
    "print(b)\n",
    "print(a) #a is also updated, since is shares the same location in memory"
   ]
  },
  {
   "cell_type": "code",
   "execution_count": null,
   "metadata": {},
   "outputs": [],
   "source": [
    "c = a[::2].copy() #force the copy\n",
    "\n",
    "np.shares_memory(a,c)"
   ]
  },
  {
   "cell_type": "code",
   "execution_count": null,
   "metadata": {},
   "outputs": [],
   "source": [
    "c[0] = 5\n",
    "\n",
    "print(c)\n",
    "print(a)"
   ]
  },
  {
   "cell_type": "markdown",
   "metadata": {},
   "source": [
    "## 7. Fancy Indexing"
   ]
  },
  {
   "cell_type": "markdown",
   "metadata": {},
   "source": [
    "### 7.1 Using Boolean mask"
   ]
  },
  {
   "cell_type": "code",
   "execution_count": null,
   "metadata": {},
   "outputs": [],
   "source": [
    "a = np.random.randint(0,20,15)\n",
    "\n",
    "print(a)"
   ]
  },
  {
   "cell_type": "code",
   "execution_count": null,
   "metadata": {},
   "outputs": [],
   "source": [
    "mask = (a % 2 == 0)"
   ]
  },
  {
   "cell_type": "code",
   "execution_count": null,
   "metadata": {},
   "outputs": [],
   "source": [
    "even_numbers = a[mask]\n",
    "\n",
    "print(even_numbers)"
   ]
  },
  {
   "cell_type": "code",
   "execution_count": null,
   "metadata": {},
   "outputs": [],
   "source": [
    "a[mask]=-1 #it can be very useful to assign a new value to sub array\n",
    "\n",
    "print(a)"
   ]
  },
  {
   "cell_type": "markdown",
   "metadata": {},
   "source": [
    "### 7.2. Using Integer Array"
   ]
  },
  {
   "cell_type": "code",
   "execution_count": null,
   "metadata": {},
   "outputs": [],
   "source": [
    "a = np.arange(0,100,10)\n",
    "\n",
    "print(a)"
   ]
  },
  {
   "cell_type": "code",
   "execution_count": null,
   "metadata": {},
   "outputs": [],
   "source": [
    "b = a[[2,3,5,2,4]]\n",
    "\n",
    "print(b)"
   ]
  },
  {
   "cell_type": "code",
   "execution_count": null,
   "metadata": {},
   "outputs": [],
   "source": [
    "a[[9,7]] = -200\n",
    "\n",
    "print(a)\n",
    "print(b)"
   ]
  },
  {
   "cell_type": "markdown",
   "metadata": {},
   "source": [
    "## 8. Numerical Operations on numpy"
   ]
  },
  {
   "cell_type": "markdown",
   "metadata": {},
   "source": [
    "### 8.1. Element wise operations"
   ]
  },
  {
   "cell_type": "code",
   "execution_count": null,
   "metadata": {},
   "outputs": [],
   "source": [
    "a = np.arange(10)\n",
    "\n",
    "print(a+1)"
   ]
  },
  {
   "cell_type": "code",
   "execution_count": null,
   "metadata": {},
   "outputs": [],
   "source": [
    "print(a ** 2)"
   ]
  },
  {
   "cell_type": "code",
   "execution_count": null,
   "metadata": {},
   "outputs": [],
   "source": [
    "b = np.ones(10) + 1\n",
    "print(\"b = \", b)\n",
    "\n",
    "print(\"a - b = \",a-b)"
   ]
  },
  {
   "cell_type": "code",
   "execution_count": null,
   "metadata": {},
   "outputs": [],
   "source": [
    "print(a*b)"
   ]
  },
  {
   "cell_type": "code",
   "execution_count": null,
   "metadata": {},
   "outputs": [],
   "source": [
    "#Matrix Multiplication\n",
    "\n",
    "c = np.diag([1,2,3,4])\n",
    "\n",
    "print(c)\n",
    "print(\"*\"*100)\n",
    "print(c*c)\n",
    "print(\"*\"*100)\n",
    "print(c.dot(c))"
   ]
  },
  {
   "cell_type": "code",
   "execution_count": null,
   "metadata": {},
   "outputs": [],
   "source": [
    "# element comparisions\n",
    "\n",
    "a = np.array([1,2,5,4])\n",
    "b = np.array([6,2,9,4])\n",
    "\n",
    "print(a==b)"
   ]
  },
  {
   "cell_type": "code",
   "execution_count": null,
   "metadata": {},
   "outputs": [],
   "source": [
    "print(a>b)"
   ]
  },
  {
   "cell_type": "code",
   "execution_count": null,
   "metadata": {},
   "outputs": [],
   "source": [
    "print(a<b)"
   ]
  },
  {
   "cell_type": "code",
   "execution_count": null,
   "metadata": {},
   "outputs": [],
   "source": [
    "print(a<=b)"
   ]
  },
  {
   "cell_type": "code",
   "execution_count": null,
   "metadata": {},
   "outputs": [],
   "source": [
    "#array wise comparision\n",
    "\n",
    "print(np.array_equal(a,b))"
   ]
  },
  {
   "cell_type": "code",
   "execution_count": null,
   "metadata": {},
   "outputs": [],
   "source": [
    "c = np.array([1,2,5,4])\n",
    "\n",
    "print(np.array_equal(a,c))"
   ]
  },
  {
   "cell_type": "markdown",
   "metadata": {},
   "source": [
    "#### Logical Operations"
   ]
  },
  {
   "cell_type": "code",
   "execution_count": null,
   "metadata": {},
   "outputs": [],
   "source": [
    "a = np.array([1,0,0,1],dtype='bool')\n",
    "b = np.array([0,1,0,1],dtype='bool')\n",
    "\n",
    "print(np.logical_or(a,b))"
   ]
  },
  {
   "cell_type": "code",
   "execution_count": null,
   "metadata": {},
   "outputs": [],
   "source": [
    "print(np.logical_and(a,b))"
   ]
  },
  {
   "cell_type": "code",
   "execution_count": null,
   "metadata": {},
   "outputs": [],
   "source": [
    "print(np.logical_not(a))"
   ]
  },
  {
   "cell_type": "markdown",
   "metadata": {},
   "source": [
    "#### Transcendental Functions:"
   ]
  },
  {
   "cell_type": "code",
   "execution_count": null,
   "metadata": {},
   "outputs": [],
   "source": [
    "a = np.arange(5)+1\n",
    "\n",
    "print(np.sin(a))"
   ]
  },
  {
   "cell_type": "code",
   "execution_count": null,
   "metadata": {},
   "outputs": [],
   "source": [
    "print(np.log(a))"
   ]
  },
  {
   "cell_type": "code",
   "execution_count": null,
   "metadata": {},
   "outputs": [],
   "source": [
    "print(np.exp(a))"
   ]
  },
  {
   "cell_type": "markdown",
   "metadata": {},
   "source": [
    "#### Shape Mismatch:"
   ]
  },
  {
   "cell_type": "code",
   "execution_count": null,
   "metadata": {},
   "outputs": [],
   "source": [
    "a = np.array([1,2,3,4])\n",
    "\n",
    "b = np.array([5, 10])\n",
    "\n",
    "print(a+b)"
   ]
  },
  {
   "cell_type": "markdown",
   "metadata": {},
   "source": [
    "### 8.2. Basic Reductions"
   ]
  },
  {
   "cell_type": "code",
   "execution_count": null,
   "metadata": {},
   "outputs": [],
   "source": [
    "x = np.array([1,2,3,4])\n",
    "\n",
    "print(np.sum(x))"
   ]
  },
  {
   "cell_type": "code",
   "execution_count": null,
   "metadata": {},
   "outputs": [],
   "source": [
    "y = np.array([[1,2],[3,4]])\n",
    "\n",
    "print(y)\n",
    "print(\"*\"*100)\n",
    "print(y.T)"
   ]
  },
  {
   "cell_type": "code",
   "execution_count": null,
   "metadata": {},
   "outputs": [],
   "source": [
    "print(y.sum(axis=0)) #column wise sum"
   ]
  },
  {
   "cell_type": "code",
   "execution_count": null,
   "metadata": {},
   "outputs": [],
   "source": [
    "print(y.sum(axis=1)) #row wise sum"
   ]
  },
  {
   "cell_type": "markdown",
   "metadata": {},
   "source": [
    "#### other reductions"
   ]
  },
  {
   "cell_type": "code",
   "execution_count": null,
   "metadata": {},
   "outputs": [],
   "source": [
    "print(y.min())"
   ]
  },
  {
   "cell_type": "code",
   "execution_count": null,
   "metadata": {},
   "outputs": [],
   "source": [
    "print(y.max())"
   ]
  },
  {
   "cell_type": "code",
   "execution_count": null,
   "metadata": {},
   "outputs": [],
   "source": [
    "print(y.argmin()) #index of minimum element"
   ]
  },
  {
   "cell_type": "code",
   "execution_count": null,
   "metadata": {},
   "outputs": [],
   "source": [
    "print(y.argmax()) #index of maximum element"
   ]
  },
  {
   "cell_type": "markdown",
   "metadata": {},
   "source": [
    "#### Logical reductions"
   ]
  },
  {
   "cell_type": "code",
   "execution_count": null,
   "metadata": {},
   "outputs": [],
   "source": [
    "print(np.all([True, False, False])) #logical and"
   ]
  },
  {
   "cell_type": "code",
   "execution_count": null,
   "metadata": {},
   "outputs": [],
   "source": [
    "print(np.any([True, False, False])) #logical or"
   ]
  },
  {
   "cell_type": "code",
   "execution_count": null,
   "metadata": {},
   "outputs": [],
   "source": [
    "a = np.zeros((50,50))\n",
    "\n",
    "print(np.any(a!=0)) #checks whether any element in a is not equal to zero"
   ]
  },
  {
   "cell_type": "markdown",
   "metadata": {},
   "source": [
    "#### Statistics"
   ]
  },
  {
   "cell_type": "code",
   "execution_count": null,
   "metadata": {},
   "outputs": [],
   "source": [
    "x = np.arange(1,10)\n",
    "\n",
    "print(np.mean(x))"
   ]
  },
  {
   "cell_type": "code",
   "execution_count": null,
   "metadata": {},
   "outputs": [],
   "source": [
    "print(np.median(x))"
   ]
  },
  {
   "cell_type": "code",
   "execution_count": null,
   "metadata": {},
   "outputs": [],
   "source": [
    "y = np.array([[1,2,3],[4,5,6]])\n",
    "\n",
    "print(np.mean(y,axis=0)) #column wise mean\n",
    "print(np.mean(y,axis=1)) #row wise mean"
   ]
  },
  {
   "cell_type": "code",
   "execution_count": null,
   "metadata": {},
   "outputs": [],
   "source": [
    "print(np.std(x))"
   ]
  },
  {
   "cell_type": "markdown",
   "metadata": {},
   "source": [
    "#### Example:"
   ]
  },
  {
   "cell_type": "code",
   "execution_count": null,
   "metadata": {},
   "outputs": [],
   "source": [
    "data = np.loadtxt(\"dataset/populations.txt\")"
   ]
  },
  {
   "cell_type": "code",
   "execution_count": null,
   "metadata": {},
   "outputs": [],
   "source": [
    "print(data)"
   ]
  },
  {
   "cell_type": "code",
   "execution_count": null,
   "metadata": {},
   "outputs": [],
   "source": [
    "data.shape"
   ]
  },
  {
   "cell_type": "code",
   "execution_count": null,
   "metadata": {},
   "outputs": [],
   "source": [
    "year, hare, lynx, carrot = data.T"
   ]
  },
  {
   "cell_type": "code",
   "execution_count": null,
   "metadata": {},
   "outputs": [],
   "source": [
    "print(year)"
   ]
  },
  {
   "cell_type": "code",
   "execution_count": null,
   "metadata": {},
   "outputs": [],
   "source": [
    "populations = data[:,1:]"
   ]
  },
  {
   "cell_type": "code",
   "execution_count": null,
   "metadata": {},
   "outputs": [],
   "source": [
    "print(populations)"
   ]
  },
  {
   "cell_type": "code",
   "execution_count": null,
   "metadata": {},
   "outputs": [],
   "source": [
    "populations.std(axis=0)"
   ]
  },
  {
   "cell_type": "code",
   "execution_count": null,
   "metadata": {},
   "outputs": [],
   "source": [
    "populations.mean(axis=0)"
   ]
  },
  {
   "cell_type": "code",
   "execution_count": null,
   "metadata": {},
   "outputs": [],
   "source": [
    "#which species has the highest population each year\n",
    "\n",
    "print(np.argmax(populations, axis=1))"
   ]
  },
  {
   "cell_type": "markdown",
   "metadata": {},
   "source": [
    "## 9. Broadcasting"
   ]
  },
  {
   "cell_type": "code",
   "execution_count": null,
   "metadata": {},
   "outputs": [],
   "source": [
    "from IPython.display import Image\n",
    "\n",
    "Image(\"photos/broadcasting.PNG\")"
   ]
  },
  {
   "cell_type": "code",
   "execution_count": null,
   "metadata": {},
   "outputs": [],
   "source": [
    "a = np.tile(np.arange(0, 40, 10),(3,1)) #replicate rows 3 times and columns 1 time # change columns\n",
    "print(a)\n",
    "print(\"*\"*100)\n",
    "\n",
    "a = a.T\n",
    "print(a)"
   ]
  },
  {
   "cell_type": "code",
   "execution_count": null,
   "metadata": {},
   "outputs": [],
   "source": [
    "b = np.array([0,1,2])\n",
    "\n",
    "print(b)"
   ]
  },
  {
   "cell_type": "code",
   "execution_count": null,
   "metadata": {},
   "outputs": [],
   "source": [
    "c = a + b\n",
    "\n",
    "print(c)"
   ]
  },
  {
   "cell_type": "code",
   "execution_count": null,
   "metadata": {},
   "outputs": [],
   "source": [
    "a = np.arange(0,40,10)\n",
    "print(a.shape)"
   ]
  },
  {
   "cell_type": "code",
   "execution_count": null,
   "metadata": {},
   "outputs": [],
   "source": [
    "a = a[:, np.newaxis] #adds a new axis\n",
    "print(a.shape)"
   ]
  },
  {
   "cell_type": "code",
   "execution_count": null,
   "metadata": {},
   "outputs": [],
   "source": [
    "print(a)"
   ]
  },
  {
   "cell_type": "code",
   "execution_count": null,
   "metadata": {},
   "outputs": [],
   "source": [
    "print(a+b)"
   ]
  },
  {
   "cell_type": "markdown",
   "metadata": {},
   "source": [
    "## 10. Array Manipulation"
   ]
  },
  {
   "cell_type": "markdown",
   "metadata": {},
   "source": [
    "### 10.1. Flattening"
   ]
  },
  {
   "cell_type": "code",
   "execution_count": null,
   "metadata": {},
   "outputs": [],
   "source": [
    "a = np.array([[1,2,3],[4,5,6]])\n",
    "print(a)"
   ]
  },
  {
   "cell_type": "code",
   "execution_count": null,
   "metadata": {},
   "outputs": [],
   "source": [
    "print(a.ravel())"
   ]
  },
  {
   "cell_type": "code",
   "execution_count": null,
   "metadata": {},
   "outputs": [],
   "source": [
    "print(a.T)"
   ]
  },
  {
   "cell_type": "code",
   "execution_count": null,
   "metadata": {},
   "outputs": [],
   "source": [
    "print(a.T.ravel())"
   ]
  },
  {
   "cell_type": "markdown",
   "metadata": {},
   "source": [
    "### 10.2. Reshaping"
   ]
  },
  {
   "cell_type": "code",
   "execution_count": null,
   "metadata": {},
   "outputs": [],
   "source": [
    "print(a.shape)"
   ]
  },
  {
   "cell_type": "code",
   "execution_count": null,
   "metadata": {},
   "outputs": [],
   "source": [
    "b = a.ravel()\n",
    "print(b.shape)"
   ]
  },
  {
   "cell_type": "code",
   "execution_count": null,
   "metadata": {},
   "outputs": [],
   "source": [
    "b = b.reshape(2,3)\n",
    "print(b.shape)"
   ]
  },
  {
   "cell_type": "markdown",
   "metadata": {},
   "source": [
    "### 10.3. Adding a new dimension"
   ]
  },
  {
   "cell_type": "code",
   "execution_count": null,
   "metadata": {},
   "outputs": [],
   "source": [
    "z = np.arange(1,10,2)\n",
    "print(z.shape)"
   ]
  },
  {
   "cell_type": "code",
   "execution_count": null,
   "metadata": {},
   "outputs": [],
   "source": [
    "z = z[:,np.newaxis]\n",
    "print(z.shape)"
   ]
  },
  {
   "cell_type": "code",
   "execution_count": null,
   "metadata": {},
   "outputs": [],
   "source": [
    "z = z[:,np.newaxis]\n",
    "print(z.shape)"
   ]
  },
  {
   "cell_type": "markdown",
   "metadata": {},
   "source": [
    "### 10.4. Dimension Shuffling"
   ]
  },
  {
   "cell_type": "code",
   "execution_count": null,
   "metadata": {},
   "outputs": [],
   "source": [
    "a = np.arange(4*3*2)\n",
    "print(a)"
   ]
  },
  {
   "cell_type": "code",
   "execution_count": null,
   "metadata": {},
   "outputs": [],
   "source": [
    "a = a.reshape(4,3,2) # 4 matrices of 3 rows and 2 columns each\n",
    "print(a) "
   ]
  },
  {
   "cell_type": "code",
   "execution_count": null,
   "metadata": {},
   "outputs": [],
   "source": [
    "a[3,1,1]"
   ]
  },
  {
   "cell_type": "markdown",
   "metadata": {},
   "source": [
    "### 10.5. Resizing"
   ]
  },
  {
   "cell_type": "code",
   "execution_count": null,
   "metadata": {},
   "outputs": [],
   "source": [
    "a = np.arange(5)\n",
    "a.resize((10,))"
   ]
  },
  {
   "cell_type": "markdown",
   "metadata": {},
   "source": [
    "### 10.6. Sorting"
   ]
  },
  {
   "cell_type": "code",
   "execution_count": null,
   "metadata": {},
   "outputs": [],
   "source": [
    "a = np.array([[5,4,3],[2,1,9]])\n",
    "print(a)"
   ]
  },
  {
   "cell_type": "code",
   "execution_count": null,
   "metadata": {},
   "outputs": [],
   "source": [
    "b = np.sort(a, axis=1)\n",
    "print(b)"
   ]
  },
  {
   "cell_type": "code",
   "execution_count": null,
   "metadata": {},
   "outputs": [],
   "source": [
    "c = np.sort(a, axis=0)\n",
    "print(c)"
   ]
  },
  {
   "cell_type": "code",
   "execution_count": null,
   "metadata": {},
   "outputs": [],
   "source": [
    "d = a.ravel()\n",
    "print(d)"
   ]
  },
  {
   "cell_type": "code",
   "execution_count": null,
   "metadata": {},
   "outputs": [],
   "source": [
    "print(np.sort(d))"
   ]
  },
  {
   "cell_type": "markdown",
   "metadata": {},
   "source": [
    "## 11. Exercises  \n",
    "\n",
    "*(Type you code in the below cell)*"
   ]
  },
  {
   "cell_type": "markdown",
   "metadata": {},
   "source": [
    "1. **Write a NumPy program to convert a list of numeric value into a one-dimensional NumPy array.**\n",
    "\n",
    "*Expected Output:*\n",
    "\n",
    "Original List: [12.23, 13.32, 100, 36.32]\n",
    "\n",
    "One-dimensional NumPy array: [ 12.23 13.32 100. 36.32]\n"
   ]
  },
  {
   "cell_type": "code",
   "execution_count": null,
   "metadata": {},
   "outputs": [],
   "source": []
  },
  {
   "cell_type": "markdown",
   "metadata": {},
   "source": [
    "2. **Write a NumPy program to create a 3x3 matrix with values ranging from 2 to 10.**\n",
    "\n",
    "*Expected Output:*\n",
    "\n",
    "[[ 2 3 4]\n",
    "[ 5 6 7]\n",
    "[ 8 9 10]]"
   ]
  },
  {
   "cell_type": "code",
   "execution_count": null,
   "metadata": {},
   "outputs": [],
   "source": []
  },
  {
   "cell_type": "markdown",
   "metadata": {},
   "source": [
    "3. *Write a NumPy program to sort an along the first, last axis of an array.**\n",
    "\n",
    "Sample array: [[2,5],[4,4]]\n",
    "    \n",
    "*Expected Output:*\n",
    "    \n",
    "Original array:\n",
    "[[4 6]\n",
    "[2 1]]\n",
    "\n",
    "Sort along the first axis:\n",
    "[[2 1]\n",
    "[4 6]]\n",
    "\n",
    "Sort along the last axis:\n",
    "[[1 2]\n",
    "[4 6]]"
   ]
  },
  {
   "cell_type": "code",
   "execution_count": null,
   "metadata": {},
   "outputs": [],
   "source": []
  },
  {
   "cell_type": "markdown",
   "metadata": {},
   "source": [
    "4. **Write a NumPy program to create a contiguous flattened array.**\n",
    "\n",
    "*Expected Output:*\n",
    "\n",
    "Original array:\n",
    "[[10 20 30]\n",
    "[20 40 50]]\n",
    "\n",
    "New flattened array:\n",
    "[10 20 30 20 40 50]"
   ]
  },
  {
   "cell_type": "code",
   "execution_count": null,
   "metadata": {},
   "outputs": [],
   "source": []
  },
  {
   "cell_type": "markdown",
   "metadata": {},
   "source": [
    " 5. **Write a NumPy program to display all the dates for the month of March, 2017.**\n",
    " \n",
    "*Expected Output:*\n",
    "\n",
    "March, 2017\n",
    "\n",
    "['2017-03-01' '2017-03-02' '2017-03-03' '2017-03-04' '2017-03-05'\n",
    "'2017-03-06' '2017-03-07' '2017-03-08' '2017-03-09' '2017-03-10'\n",
    "'2017-03-11' '2017-03-12' '2017-03-13' '2017-03-14' '2017-03-15'\n",
    "'2017-03-16' '2017-03-17' '2017-03-18' '2017-03-19' '2017-03-20'\n",
    "'2017-03-21' '2017-03-22' '2017-03-23' '2017-03-24' '2017-03-25'\n",
    "'2017-03-26' '2017-03-27' '2017-03-28' '2017-03-29' '2017-03-30'\n",
    "'2017-03-31']"
   ]
  },
  {
   "cell_type": "code",
   "execution_count": null,
   "metadata": {},
   "outputs": [],
   "source": []
  },
  {
   "cell_type": "markdown",
   "metadata": {},
   "source": [
    " 6. **Write a NumPy program to generate six random integers between 10 and 30.**\n",
    "\n",
    "*Expected Output:*\n",
    "    \n",
    "[20 28 27 17 28 29]"
   ]
  },
  {
   "cell_type": "code",
   "execution_count": null,
   "metadata": {},
   "outputs": [],
   "source": []
  },
  {
   "cell_type": "markdown",
   "metadata": {},
   "source": [
    "7. **Write a NumPy program to create a 5x5 array with random values and find the minimum and maximum values.**\n",
    "\n",
    "*Expected Output*\n",
    "\n",
    "Original Array:\n",
    "    \n",
    "[[ 0.96336355 0.12339131 0.20295196 0.37243578 0.88105252]\n",
    "[ 0.93228246 0.67470158 0.38103235 0.32242645 0.40610231]\n",
    "[ 0.3113495 0.31688 0.79189089 0.08676434 0.60829874]\n",
    "[ 0.30360149 0.94316317 0.98142491 0.77222542 0.51532195]\n",
    "[ 0.97392305 0.16669609 0.81377917 0.2165645 0.00121611]]\n",
    "\n",
    "Minimum and Maximum Values:\n",
    "    \n",
    "0.00121610921757 0.981424910368"
   ]
  },
  {
   "cell_type": "code",
   "execution_count": null,
   "metadata": {},
   "outputs": [],
   "source": []
  },
  {
   "cell_type": "markdown",
   "metadata": {},
   "source": [
    "8. **Write a NumPy program to get the powers of an array values element-wise.**\n",
    "\n",
    "Note: First array elements raised to powers from second array\n",
    "    \n",
    "*Expected Output:*\n",
    "    \n",
    "Original array\n",
    "\n",
    "[0 1 2 3 4 5 6]\n",
    "\n",
    "First array elements raised to powers from second array, element-wise:\n",
    "    \n",
    "[ 0 1 8 27 64 125 216]"
   ]
  },
  {
   "cell_type": "code",
   "execution_count": null,
   "metadata": {},
   "outputs": [],
   "source": []
  },
  {
   "cell_type": "markdown",
   "metadata": {},
   "source": [
    "9. **Write a NumPy program to create a structured array from given student name, height, class and their data types. Now sort the array on height.**\n",
    "\n",
    "*Expected Output:*\n",
    "\n",
    "Original array:\n",
    "\n",
    "[(b'James', 5, 48.5 ) (b'Nail', 6, 52.5 ) (b'Paul', 5, 42.1 )\n",
    "(b'Pit', 5, 40.11)]\n",
    "\n",
    "Sort by height\n",
    "\n",
    "[(b'Pit', 5, 40.11) (b'Paul', 5, 42.1 ) (b'James', 5, 48.5 )\n",
    "(b'Nail', 6, 52.5 )]"
   ]
  },
  {
   "cell_type": "code",
   "execution_count": null,
   "metadata": {},
   "outputs": [],
   "source": []
  },
  {
   "cell_type": "markdown",
   "metadata": {},
   "source": [
    "10. **Write a NumPy program to sort the student id with increasing height of the students from given students id and height. Print the integer indices that describes the sort order by multiple columns and the sorted data.**\n",
    "\n",
    "*Expected Output:*\n",
    "\n",
    "Sorted indices\n",
    "\n",
    "[4 0 5 3 6 1 2]\n",
    "\n",
    "Sorted data:\n",
    "\n",
    "1682 38.0\n",
    "1023 40.0\n",
    "5241 40.0\n",
    "1671 41.0\n",
    "4532 42.0\n",
    "5202 42.0\n",
    "6230 45.0"
   ]
  },
  {
   "cell_type": "code",
   "execution_count": null,
   "metadata": {},
   "outputs": [],
   "source": []
  }
 ],
 "metadata": {
  "kernelspec": {
   "display_name": "Python 3",
   "language": "python",
   "name": "python3"
  },
  "language_info": {
   "codemirror_mode": {
    "name": "ipython",
    "version": 3
   },
   "file_extension": ".py",
   "mimetype": "text/x-python",
   "name": "python",
   "nbconvert_exporter": "python",
   "pygments_lexer": "ipython3",
   "version": "3.8.3"
  }
 },
 "nbformat": 4,
 "nbformat_minor": 4
}
